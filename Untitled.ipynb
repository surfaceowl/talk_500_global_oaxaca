{
 "cells": [
  {
   "cell_type": "markdown",
   "id": "9a4371a1-97b5-4214-a9c9-4b8c0d761c95",
   "metadata": {},
   "source": [
    "# Slide 1"
   ]
  },
  {
   "cell_type": "markdown",
   "id": "5f18a5f4-7382-44e7-a913-d051165f3b98",
   "metadata": {},
   "source": [
    "# Slide 2"
   ]
  },
  {
   "cell_type": "markdown",
   "id": "37d438c6-00dc-4b94-ba06-28bad75603e6",
   "metadata": {},
   "source": [
    "# Slide 3"
   ]
  },
  {
   "cell_type": "markdown",
   "id": "491224c8-9515-4113-885d-50843963a080",
   "metadata": {},
   "source": [
    "# Slide 4"
   ]
  },
  {
   "cell_type": "markdown",
   "id": "df60781a-49d2-40b5-9190-4ed36b7d0eb0",
   "metadata": {},
   "source": [
    "# Slide 5"
   ]
  },
  {
   "cell_type": "code",
   "execution_count": null,
   "id": "0cf7ca38-3c49-4a11-8be4-91062b9e0750",
   "metadata": {},
   "outputs": [],
   "source": []
  },
  {
   "cell_type": "code",
   "execution_count": null,
   "id": "397bf69f-4746-43fa-a29b-168f79c4cf1d",
   "metadata": {},
   "outputs": [],
   "source": []
  },
  {
   "cell_type": "code",
   "execution_count": null,
   "id": "690ddb67-5383-4d3a-994b-f75326ac32d6",
   "metadata": {},
   "outputs": [],
   "source": []
  },
  {
   "cell_type": "code",
   "execution_count": null,
   "id": "f74e85fc-a954-461e-9567-99829f55125c",
   "metadata": {},
   "outputs": [],
   "source": []
  },
  {
   "cell_type": "code",
   "execution_count": null,
   "id": "db6dd3d0-9d3b-46a7-a523-c820e748fe35",
   "metadata": {},
   "outputs": [],
   "source": []
  }
 ],
 "metadata": {
  "kernelspec": {
   "display_name": "Python 3 (ipykernel)",
   "language": "python",
   "name": "python3"
  },
  "language_info": {
   "codemirror_mode": {
    "name": "ipython",
    "version": 3
   },
   "file_extension": ".py",
   "mimetype": "text/x-python",
   "name": "python",
   "nbconvert_exporter": "python",
   "pygments_lexer": "ipython3",
   "version": "3.11.4"
  }
 },
 "nbformat": 4,
 "nbformat_minor": 5
}
